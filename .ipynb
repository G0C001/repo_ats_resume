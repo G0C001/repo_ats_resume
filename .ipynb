{
 "cells": [
  {
   "cell_type": "code",
   "execution_count": 6,
   "metadata": {},
   "outputs": [
    {
     "name": "stdout",
     "output_type": "stream",
     "text": [
      "True\n"
     ]
    }
   ],
   "source": [
    "import os\n",
    "print(os.path.exists(r'B:\\INterview_QUestions\\pdfresume\\resume\\GTK3-Runtime Win64\\bin'))"
   ]
  },
  {
   "cell_type": "code",
   "execution_count": 4,
   "metadata": {},
   "outputs": [
    {
     "name": "stdout",
     "output_type": "stream",
     "text": [
      "Failed to load B:\\INterview_QUestions\\pdfresume\\resume\\GTK3-Runtime Win64\\bin\\libcairo-script-interpreter-2.dll: Could not find module 'B:\\INterview_QUestions\\pdfresume\\resume\\GTK3-Runtime Win64\\bin\\libcairo-script-interpreter-2.dll' (or one of its dependencies). Try using the full path with constructor syntax.\n",
      "Failed to load B:\\INterview_QUestions\\pdfresume\\resume\\GTK3-Runtime Win64\\bin\\libtiff-5.dll: Could not find module 'B:\\INterview_QUestions\\pdfresume\\resume\\GTK3-Runtime Win64\\bin\\libtiff-5.dll' (or one of its dependencies). Try using the full path with constructor syntax.\n"
     ]
    }
   ],
   "source": [
    "import ctypes\n",
    "import os\n",
    "dll_directory = r\"B:\\INterview_QUestions\\pdfresume\\resume\\GTK3-Runtime Win64\\bin\"\n",
    "for file_name in os.listdir(dll_directory):\n",
    "    if file_name.endswith(\".dll\"):\n",
    "        dll_path = os.path.join(dll_directory, file_name)\n",
    "        try:\n",
    "            my_dll = ctypes.CDLL(dll_path)\n",
    "            print(f\"Loaded {dll_path} successfully.\")\n",
    "        except Exception as e:\n",
    "            print(f\"Failed to load {dll_path}: {e}\")\n"
   ]
  },
  {
   "cell_type": "code",
   "execution_count": 3,
   "metadata": {},
   "outputs": [],
   "source": [
    "import os\n",
    "from weasyprint import HTML\n",
    "\n",
    "try:\n",
    "    # Your weasyprint code here\n",
    "    HTML(string=\"<p>hai</p>\").write_pdf('output.pdf')\n",
    "except Exception as e:\n",
    "    print(f\"Error: {e}\")"
   ]
  },
  {
   "cell_type": "code",
   "execution_count": 4,
   "metadata": {},
   "outputs": [
    {
     "name": "stdout",
     "output_type": "stream",
     "text": [
      "Loaded GTK3\\libatk-1.0-0.dll successfully.\n",
      "Loaded GTK3\\libatkmm-1.6-1.dll successfully.\n",
      "Loaded GTK3\\libbrotlicommon.dll successfully.\n",
      "Loaded GTK3\\libbrotlidec.dll successfully.\n",
      "Loaded GTK3\\libbz2-1.dll successfully.\n",
      "Loaded GTK3\\libcairo-2.dll successfully.\n",
      "Loaded GTK3\\libcairo-gobject-2.dll successfully.\n",
      "Failed to load GTK3\\libcairo-script-interpreter-2.dll: Could not find module 'b:\\INterview_QUestions\\pdfresume\\resume\\GTK3\\libcairo-script-interpreter-2.dll' (or one of its dependencies). Try using the full path with constructor syntax.\n",
      "Loaded GTK3\\libcairomm-1.0-1.dll successfully.\n",
      "Loaded GTK3\\libcroco-0.6-3.dll successfully.\n",
      "Loaded GTK3\\libdatrie-1.dll successfully.\n",
      "Loaded GTK3\\libepoxy-0.dll successfully.\n",
      "Loaded GTK3\\libexpat-1.dll successfully.\n",
      "Loaded GTK3\\libexslt-0.dll successfully.\n",
      "Loaded GTK3\\libffi-7.dll successfully.\n",
      "Loaded GTK3\\libfontconfig-1.dll successfully.\n",
      "Loaded GTK3\\libfreetype-6.dll successfully.\n",
      "Loaded GTK3\\libfribidi-0.dll successfully.\n",
      "Loaded GTK3\\libgailutil-3-0.dll successfully.\n",
      "Loaded GTK3\\libgcc_s_seh-1.dll successfully.\n",
      "Loaded GTK3\\libgdk-3-0.dll successfully.\n",
      "Loaded GTK3\\libgdkmm-3.0-1.dll successfully.\n",
      "Loaded GTK3\\libgdk_pixbuf-2.0-0.dll successfully.\n",
      "Loaded GTK3\\libgio-2.0-0.dll successfully.\n",
      "Loaded GTK3\\libgiomm-2.4-1.dll successfully.\n",
      "Loaded GTK3\\libgirepository-1.0-1.dll successfully.\n",
      "Loaded GTK3\\libglib-2.0-0.dll successfully.\n",
      "Loaded GTK3\\libglibmm-2.4-1.dll successfully.\n",
      "Loaded GTK3\\libglibmm_generate_extra_defs-2.4-1.dll successfully.\n",
      "Loaded GTK3\\libgmodule-2.0-0.dll successfully.\n",
      "Loaded GTK3\\libgmp-10.dll successfully.\n",
      "Loaded GTK3\\libgnutls-30.dll successfully.\n",
      "Loaded GTK3\\libgobject-2.0-0.dll successfully.\n",
      "Loaded GTK3\\libgraphite2.dll successfully.\n",
      "Loaded GTK3\\libgthread-2.0-0.dll successfully.\n",
      "Loaded GTK3\\libgtk-3-0.dll successfully.\n",
      "Loaded GTK3\\libgtkmm-3.0-1.dll successfully.\n",
      "Loaded GTK3\\libgtksourceview-3.0-1.dll successfully.\n",
      "Loaded GTK3\\libgtksourceview-4-0.dll successfully.\n",
      "Loaded GTK3\\libgtksourceviewmm-3.0-0.dll successfully.\n",
      "Loaded GTK3\\libharfbuzz-0.dll successfully.\n",
      "Loaded GTK3\\libhogweed-6.dll successfully.\n",
      "Loaded GTK3\\libiconv-2.dll successfully.\n",
      "Loaded GTK3\\libidn2-0.dll successfully.\n",
      "Loaded GTK3\\libintl-8.dll successfully.\n",
      "Loaded GTK3\\libjasper-4.dll successfully.\n",
      "Loaded GTK3\\libjpeg-8.dll successfully.\n",
      "Loaded GTK3\\libjson-glib-1.0-0.dll successfully.\n",
      "Loaded GTK3\\liblzma-5.dll successfully.\n",
      "Loaded GTK3\\libnettle-8.dll successfully.\n",
      "Loaded GTK3\\libp11-kit-0.dll successfully.\n",
      "Loaded GTK3\\libpango-1.0-0.dll successfully.\n",
      "Loaded GTK3\\libpangocairo-1.0-0.dll successfully.\n",
      "Loaded GTK3\\libpangoft2-1.0-0.dll successfully.\n",
      "Loaded GTK3\\libpangomm-1.4-1.dll successfully.\n",
      "Loaded GTK3\\libpangowin32-1.0-0.dll successfully.\n",
      "Loaded GTK3\\libpcre-1.dll successfully.\n",
      "Loaded GTK3\\libpeas-1.0-0.dll successfully.\n",
      "Loaded GTK3\\libpeas-gtk-1.0-0.dll successfully.\n",
      "Loaded GTK3\\libpixman-1-0.dll successfully.\n",
      "Loaded GTK3\\libpng16-16.dll successfully.\n",
      "Loaded GTK3\\libproxy-1.dll successfully.\n",
      "Loaded GTK3\\libpsl-5.dll successfully.\n",
      "Loaded GTK3\\librsvg-2-2.dll successfully.\n",
      "Loaded GTK3\\libsigc-2.0-0.dll successfully.\n",
      "Loaded GTK3\\libsoup-2.4-1.dll successfully.\n",
      "Loaded GTK3\\libsoup-gnome-2.4-1.dll successfully.\n",
      "Loaded GTK3\\libsqlite3-0.dll successfully.\n",
      "Loaded GTK3\\libssp-0.dll successfully.\n",
      "Loaded GTK3\\libstdc++-6.dll successfully.\n",
      "Loaded GTK3\\libtasn1-6.dll successfully.\n",
      "Loaded GTK3\\libthai-0.dll successfully.\n",
      "Failed to load GTK3\\libtiff-5.dll: Could not find module 'b:\\INterview_QUestions\\pdfresume\\resume\\GTK3\\libtiff-5.dll' (or one of its dependencies). Try using the full path with constructor syntax.\n",
      "Loaded GTK3\\libunistring-2.dll successfully.\n",
      "Loaded GTK3\\libwinpthread-1.dll successfully.\n",
      "Loaded GTK3\\libxml++-2.6-2.dll successfully.\n",
      "Loaded GTK3\\libxml++-3.0-1.dll successfully.\n",
      "Loaded GTK3\\libxml2-2.dll successfully.\n",
      "Loaded GTK3\\libxslt-1.dll successfully.\n",
      "Loaded GTK3\\zlib1.dll successfully.\n"
     ]
    }
   ],
   "source": [
    "import ctypes\n",
    "import os\n",
    "dll_directory = r\"GTK3\"\n",
    "for file_name in os.listdir(dll_directory):\n",
    "    if file_name.endswith(\".dll\"):\n",
    "        dll_path = os.path.join(dll_directory, file_name)\n",
    "        try:\n",
    "            my_dll = ctypes.CDLL(dll_path)\n",
    "            print(f\"Loaded {dll_path} successfully.\")\n",
    "        except Exception as e:\n",
    "            print(f\"Failed to load {dll_path}: {e}\")"
   ]
  },
  {
   "cell_type": "code",
   "execution_count": null,
   "metadata": {},
   "outputs": [],
   "source": []
  }
 ],
 "metadata": {
  "kernelspec": {
   "display_name": "mypy",
   "language": "python",
   "name": "python3"
  },
  "language_info": {
   "codemirror_mode": {
    "name": "ipython",
    "version": 3
   },
   "file_extension": ".py",
   "mimetype": "text/x-python",
   "name": "python",
   "nbconvert_exporter": "python",
   "pygments_lexer": "ipython3",
   "version": "3.12.2"
  }
 },
 "nbformat": 4,
 "nbformat_minor": 2
}
